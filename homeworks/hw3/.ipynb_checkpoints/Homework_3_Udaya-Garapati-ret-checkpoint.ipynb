{
 "cells": [
  {
   "cell_type": "markdown",
   "id": "c51e8572",
   "metadata": {
    "id": "c51e8572"
   },
   "source": [
    "# Homework 3\n",
    "\n",
    "In this homework you will:\n",
    "* Implement the Naive Bayes algorithm and use it for classification\n",
    "* Use feature weights learned with logistic regression to assess feature importance"
   ]
  },
  {
   "cell_type": "markdown",
   "id": "3fe0cca2",
   "metadata": {
    "id": "3fe0cca2"
   },
   "source": [
    "## Naive Bayes\n",
    "\n",
    "Recall that the Naive Bayes classifier computes $p(\\textrm{class} = y|x)$ for an instance where $x = (x_1 = v_1, x_2 = v_2, \\ldots, x_n = v_n)$ is a vector of feature values.  It does that for every possible value of the class label and chooses the label that yields the largest probability.  Concretely, that probability is computed as follows (note the use of the \"proportional to\" symbol $\\propto$ below) because we are ignoring the $p(x)$ term that arised from Bayes rule).\n",
    "\n",
    "$p(class = y|x) \\propto p(x_1 = v_1 | class = y) * \n",
    "p(x_2 = v_2 | class = y) *\n",
    "\\ldots p(x_n = v_n | class = y) * p(class = y)$\n",
    "\n",
    "Below you will implement the Naive Bayes classifier (with lots of supporting routines already provided) and apply it to a dataset of mushrooms where the class label is 'p' for poisonous and 'e' for edible."
   ]
  },
  {
   "cell_type": "code",
   "execution_count": 3,
   "id": "b367eb96",
   "metadata": {
    "executionInfo": {
     "elapsed": 480,
     "status": "ok",
     "timestamp": 1682006513583,
     "user": {
      "displayName": "Vamshi Krishna Ginna",
      "userId": "07582065924156193695"
     },
     "user_tz": 240
    },
    "id": "b367eb96"
   },
   "outputs": [],
   "source": [
    "import pandas as pd"
   ]
  },
  {
   "cell_type": "code",
   "execution_count": 4,
   "id": "XQOXeLt9ZhD4",
   "metadata": {
    "colab": {
     "base_uri": "https://localhost:8080/"
    },
    "executionInfo": {
     "elapsed": 19080,
     "status": "ok",
     "timestamp": 1682006532660,
     "user": {
      "displayName": "Vamshi Krishna Ginna",
      "userId": "07582065924156193695"
     },
     "user_tz": 240
    },
    "id": "XQOXeLt9ZhD4",
    "outputId": "0bb9d754-5793-4b60-f787-952e457013a7"
   },
   "outputs": [
    {
     "ename": "ModuleNotFoundError",
     "evalue": "No module named 'google'",
     "output_type": "error",
     "traceback": [
      "\u001b[1;31m---------------------------------------------------------------------------\u001b[0m",
      "\u001b[1;31mModuleNotFoundError\u001b[0m                       Traceback (most recent call last)",
      "\u001b[1;32m~\\AppData\\Local\\Temp\\ipykernel_13456\\1625667702.py\u001b[0m in \u001b[0;36m<module>\u001b[1;34m\u001b[0m\n\u001b[0;32m      1\u001b[0m \u001b[1;32mimport\u001b[0m \u001b[0mpandas\u001b[0m \u001b[1;32mas\u001b[0m \u001b[0mpd\u001b[0m\u001b[1;33m\u001b[0m\u001b[1;33m\u001b[0m\u001b[0m\n\u001b[1;32m----> 2\u001b[1;33m \u001b[1;32mfrom\u001b[0m \u001b[0mgoogle\u001b[0m\u001b[1;33m.\u001b[0m\u001b[0mcolab\u001b[0m \u001b[1;32mimport\u001b[0m \u001b[0mdrive\u001b[0m\u001b[1;33m\u001b[0m\u001b[1;33m\u001b[0m\u001b[0m\n\u001b[0m\u001b[0;32m      3\u001b[0m \u001b[1;33m\u001b[0m\u001b[0m\n\u001b[0;32m      4\u001b[0m \u001b[0mdrive\u001b[0m\u001b[1;33m.\u001b[0m\u001b[0mmount\u001b[0m\u001b[1;33m(\u001b[0m\u001b[1;34m'/content/gdrive'\u001b[0m\u001b[1;33m,\u001b[0m \u001b[0mforce_remount\u001b[0m\u001b[1;33m=\u001b[0m\u001b[1;32mTrue\u001b[0m\u001b[1;33m)\u001b[0m\u001b[1;33m\u001b[0m\u001b[1;33m\u001b[0m\u001b[0m\n",
      "\u001b[1;31mModuleNotFoundError\u001b[0m: No module named 'google'"
     ]
    }
   ],
   "source": [
    "import pandas as pd\n",
    "from google.colab import drive\n",
    "\n",
    "drive.mount('/content/gdrive', force_remount=True)"
   ]
  },
  {
   "cell_type": "code",
   "execution_count": 5,
   "id": "HsG9cnhBZh1Y",
   "metadata": {
    "colab": {
     "base_uri": "https://localhost:8080/"
    },
    "executionInfo": {
     "elapsed": 7,
     "status": "ok",
     "timestamp": 1682006532661,
     "user": {
      "displayName": "Vamshi Krishna Ginna",
      "userId": "07582065924156193695"
     },
     "user_tz": 240
    },
    "id": "HsG9cnhBZh1Y",
    "outputId": "b0bfa2ee-533e-495b-8f3a-2e2e97de5f79"
   },
   "outputs": [
    {
     "name": "stdout",
     "output_type": "stream",
     "text": [
      "[WinError 3] The system cannot find the path specified: 'gdrive/MyDrive'\n",
      "C:\\Users\\udaya\\Desktop\\Spring2023\\cmsc478\\homeworks\\hw3\n"
     ]
    }
   ],
   "source": [
    "%cd gdrive/MyDrive"
   ]
  },
  {
   "cell_type": "markdown",
   "id": "da040cf2",
   "metadata": {
    "id": "da040cf2"
   },
   "source": [
    "### Load the data"
   ]
  },
  {
   "cell_type": "code",
   "execution_count": 6,
   "id": "c5e03fb2",
   "metadata": {
    "colab": {
     "base_uri": "https://localhost:8080/",
     "height": 236
    },
    "executionInfo": {
     "elapsed": 529,
     "status": "ok",
     "timestamp": 1682006533185,
     "user": {
      "displayName": "Vamshi Krishna Ginna",
      "userId": "07582065924156193695"
     },
     "user_tz": 240
    },
    "id": "c5e03fb2",
    "outputId": "0622dc1b-05a5-403c-b225-b24b6dfe804e"
   },
   "outputs": [
    {
     "data": {
      "text/html": [
       "<div>\n",
       "<style scoped>\n",
       "    .dataframe tbody tr th:only-of-type {\n",
       "        vertical-align: middle;\n",
       "    }\n",
       "\n",
       "    .dataframe tbody tr th {\n",
       "        vertical-align: top;\n",
       "    }\n",
       "\n",
       "    .dataframe thead th {\n",
       "        text-align: right;\n",
       "    }\n",
       "</style>\n",
       "<table border=\"1\" class=\"dataframe\">\n",
       "  <thead>\n",
       "    <tr style=\"text-align: right;\">\n",
       "      <th></th>\n",
       "      <th>class</th>\n",
       "      <th>cap-shape</th>\n",
       "      <th>cap-surface</th>\n",
       "      <th>cap-color</th>\n",
       "      <th>bruises</th>\n",
       "      <th>odor</th>\n",
       "      <th>gill-attachment</th>\n",
       "      <th>gill-spacing</th>\n",
       "      <th>gill-size</th>\n",
       "      <th>gill-color</th>\n",
       "      <th>...</th>\n",
       "      <th>stalk-surface-below-ring</th>\n",
       "      <th>stalk-color-above-ring</th>\n",
       "      <th>stalk-color-below-ring</th>\n",
       "      <th>veil-type</th>\n",
       "      <th>veil-color</th>\n",
       "      <th>ring-number</th>\n",
       "      <th>ring-type</th>\n",
       "      <th>spore-print-color</th>\n",
       "      <th>population</th>\n",
       "      <th>habitat</th>\n",
       "    </tr>\n",
       "  </thead>\n",
       "  <tbody>\n",
       "    <tr>\n",
       "      <th>0</th>\n",
       "      <td>p</td>\n",
       "      <td>x</td>\n",
       "      <td>s</td>\n",
       "      <td>n</td>\n",
       "      <td>t</td>\n",
       "      <td>p</td>\n",
       "      <td>f</td>\n",
       "      <td>c</td>\n",
       "      <td>n</td>\n",
       "      <td>k</td>\n",
       "      <td>...</td>\n",
       "      <td>s</td>\n",
       "      <td>w</td>\n",
       "      <td>w</td>\n",
       "      <td>p</td>\n",
       "      <td>w</td>\n",
       "      <td>o</td>\n",
       "      <td>p</td>\n",
       "      <td>k</td>\n",
       "      <td>s</td>\n",
       "      <td>u</td>\n",
       "    </tr>\n",
       "    <tr>\n",
       "      <th>1</th>\n",
       "      <td>e</td>\n",
       "      <td>x</td>\n",
       "      <td>s</td>\n",
       "      <td>y</td>\n",
       "      <td>t</td>\n",
       "      <td>a</td>\n",
       "      <td>f</td>\n",
       "      <td>c</td>\n",
       "      <td>b</td>\n",
       "      <td>k</td>\n",
       "      <td>...</td>\n",
       "      <td>s</td>\n",
       "      <td>w</td>\n",
       "      <td>w</td>\n",
       "      <td>p</td>\n",
       "      <td>w</td>\n",
       "      <td>o</td>\n",
       "      <td>p</td>\n",
       "      <td>n</td>\n",
       "      <td>n</td>\n",
       "      <td>g</td>\n",
       "    </tr>\n",
       "    <tr>\n",
       "      <th>2</th>\n",
       "      <td>e</td>\n",
       "      <td>b</td>\n",
       "      <td>s</td>\n",
       "      <td>w</td>\n",
       "      <td>t</td>\n",
       "      <td>l</td>\n",
       "      <td>f</td>\n",
       "      <td>c</td>\n",
       "      <td>b</td>\n",
       "      <td>n</td>\n",
       "      <td>...</td>\n",
       "      <td>s</td>\n",
       "      <td>w</td>\n",
       "      <td>w</td>\n",
       "      <td>p</td>\n",
       "      <td>w</td>\n",
       "      <td>o</td>\n",
       "      <td>p</td>\n",
       "      <td>n</td>\n",
       "      <td>n</td>\n",
       "      <td>m</td>\n",
       "    </tr>\n",
       "    <tr>\n",
       "      <th>3</th>\n",
       "      <td>p</td>\n",
       "      <td>x</td>\n",
       "      <td>y</td>\n",
       "      <td>w</td>\n",
       "      <td>t</td>\n",
       "      <td>p</td>\n",
       "      <td>f</td>\n",
       "      <td>c</td>\n",
       "      <td>n</td>\n",
       "      <td>n</td>\n",
       "      <td>...</td>\n",
       "      <td>s</td>\n",
       "      <td>w</td>\n",
       "      <td>w</td>\n",
       "      <td>p</td>\n",
       "      <td>w</td>\n",
       "      <td>o</td>\n",
       "      <td>p</td>\n",
       "      <td>k</td>\n",
       "      <td>s</td>\n",
       "      <td>u</td>\n",
       "    </tr>\n",
       "    <tr>\n",
       "      <th>4</th>\n",
       "      <td>e</td>\n",
       "      <td>x</td>\n",
       "      <td>s</td>\n",
       "      <td>g</td>\n",
       "      <td>f</td>\n",
       "      <td>n</td>\n",
       "      <td>f</td>\n",
       "      <td>w</td>\n",
       "      <td>b</td>\n",
       "      <td>k</td>\n",
       "      <td>...</td>\n",
       "      <td>s</td>\n",
       "      <td>w</td>\n",
       "      <td>w</td>\n",
       "      <td>p</td>\n",
       "      <td>w</td>\n",
       "      <td>o</td>\n",
       "      <td>e</td>\n",
       "      <td>n</td>\n",
       "      <td>a</td>\n",
       "      <td>g</td>\n",
       "    </tr>\n",
       "  </tbody>\n",
       "</table>\n",
       "<p>5 rows × 23 columns</p>\n",
       "</div>"
      ],
      "text/plain": [
       "  class cap-shape cap-surface cap-color bruises odor gill-attachment  \\\n",
       "0     p         x           s         n       t    p               f   \n",
       "1     e         x           s         y       t    a               f   \n",
       "2     e         b           s         w       t    l               f   \n",
       "3     p         x           y         w       t    p               f   \n",
       "4     e         x           s         g       f    n               f   \n",
       "\n",
       "  gill-spacing gill-size gill-color  ... stalk-surface-below-ring  \\\n",
       "0            c         n          k  ...                        s   \n",
       "1            c         b          k  ...                        s   \n",
       "2            c         b          n  ...                        s   \n",
       "3            c         n          n  ...                        s   \n",
       "4            w         b          k  ...                        s   \n",
       "\n",
       "  stalk-color-above-ring stalk-color-below-ring veil-type veil-color  \\\n",
       "0                      w                      w         p          w   \n",
       "1                      w                      w         p          w   \n",
       "2                      w                      w         p          w   \n",
       "3                      w                      w         p          w   \n",
       "4                      w                      w         p          w   \n",
       "\n",
       "  ring-number ring-type spore-print-color population habitat  \n",
       "0           o         p                 k          s       u  \n",
       "1           o         p                 n          n       g  \n",
       "2           o         p                 n          n       m  \n",
       "3           o         p                 k          s       u  \n",
       "4           o         e                 n          a       g  \n",
       "\n",
       "[5 rows x 23 columns]"
      ]
     },
     "execution_count": 6,
     "metadata": {},
     "output_type": "execute_result"
    }
   ],
   "source": [
    "df = pd.read_csv('mushrooms.csv')\n",
    "df.head()"
   ]
  },
  {
   "cell_type": "code",
   "execution_count": 7,
   "id": "ab6b17be",
   "metadata": {
    "colab": {
     "base_uri": "https://localhost:8080/"
    },
    "executionInfo": {
     "elapsed": 11,
     "status": "ok",
     "timestamp": 1682006533186,
     "user": {
      "displayName": "Vamshi Krishna Ginna",
      "userId": "07582065924156193695"
     },
     "user_tz": 240
    },
    "id": "ab6b17be",
    "outputId": "e20194fc-b824-4ac1-9d42-7c39b2f266e5"
   },
   "outputs": [
    {
     "data": {
      "text/plain": [
       "['cap-shape',\n",
       " 'cap-surface',\n",
       " 'cap-color',\n",
       " 'bruises',\n",
       " 'odor',\n",
       " 'gill-attachment',\n",
       " 'gill-spacing',\n",
       " 'gill-size',\n",
       " 'gill-color',\n",
       " 'stalk-shape',\n",
       " 'stalk-root',\n",
       " 'stalk-surface-above-ring',\n",
       " 'stalk-surface-below-ring',\n",
       " 'stalk-color-above-ring',\n",
       " 'stalk-color-below-ring',\n",
       " 'veil-type',\n",
       " 'veil-color',\n",
       " 'ring-number',\n",
       " 'ring-type',\n",
       " 'spore-print-color',\n",
       " 'population',\n",
       " 'habitat']"
      ]
     },
     "execution_count": 7,
     "metadata": {},
     "output_type": "execute_result"
    }
   ],
   "source": [
    "# Names of features\n",
    "FEAT_NAMES = df.columns.to_list()[1:]\n",
    "FEAT_NAMES"
   ]
  },
  {
   "cell_type": "code",
   "execution_count": 8,
   "id": "c6606286",
   "metadata": {
    "colab": {
     "base_uri": "https://localhost:8080/"
    },
    "executionInfo": {
     "elapsed": 10,
     "status": "ok",
     "timestamp": 1682006533186,
     "user": {
      "displayName": "Vamshi Krishna Ginna",
      "userId": "07582065924156193695"
     },
     "user_tz": 240
    },
    "id": "c6606286",
    "outputId": "0fdd3468-2ccd-4769-fcf1-3df8ed04af12"
   },
   "outputs": [
    {
     "data": {
      "text/plain": [
       "['p', 'e']"
      ]
     },
     "execution_count": 8,
     "metadata": {},
     "output_type": "execute_result"
    }
   ],
   "source": [
    "# Values for the class labels\n",
    "LABELS = ['p', 'e']\n",
    "LABELS"
   ]
  },
  {
   "cell_type": "markdown",
   "id": "e5911a1d",
   "metadata": {
    "id": "e5911a1d"
   },
   "source": [
    "### Counting\n",
    "\n",
    "The routine below does counting for you.  Given a dataframe with mushroom instances, it can return 3 kinds of counts:\n",
    "* Counts of rows with a given class label\n",
    "* Counts of rows with a given feature value\n",
    "* Counts of rows with a given class label and a given feature value\n",
    "\n",
    "You can use this routine when computing the probabilities used by NB.\n",
    "\n",
    "Read through the code below, and then look at the cells after it to see examples of how to get each of the count types listed above.\n",
    "\n",
    "NOTE: I using memoization to store counts so they don't have to be computed from the raw data if that are requested a second time.  That's irrelevant to what you need to do.  It's just a simple way to avoid repeated work and will make your code significantly faster."
   ]
  },
  {
   "cell_type": "code",
   "execution_count": 9,
   "id": "fef878f5",
   "metadata": {
    "executionInfo": {
     "elapsed": 8,
     "status": "ok",
     "timestamp": 1682006533186,
     "user": {
      "displayName": "Vamshi Krishna Ginna",
      "userId": "07582065924156193695"
     },
     "user_tz": 240
    },
    "id": "fef878f5"
   },
   "outputs": [],
   "source": [
    "MEMO = {}\n",
    "\n",
    "def count_rows(df, y = None, feat_name = None, feat_value = None):\n",
    "    \n",
    "    assert y is not None or feat_name is not None, \"You must specify at least a class or feature\"\n",
    "    assert (feat_name is None and feat_value is None) or (feat_name is not None and feat_value is not None), \"Feature names require feature values, and vice versa\"\n",
    "    \n",
    "    key = None\n",
    "    \n",
    "    if y is not None and feat_name is None:\n",
    "        key = 'class=%s' % y\n",
    "        if not key in MEMO:\n",
    "            MEMO[key] = len(df[df['class'] == y])\n",
    "    \n",
    "    if y is not None and feat_name is not None:\n",
    "        key = 'class=%s;%s=%s' % (y, feat_name, feat_value)\n",
    "        if not key in MEMO:\n",
    "            MEMO[key] = len(df[(df['class'] == y) & (df[feat_name] == feat_value)])\n",
    "\n",
    "    if y is None and feat_name is not None:\n",
    "        key = '%s=%s' % (feat_name, feat_value)\n",
    "        if not key in MEMO:\n",
    "            MEMO[key] = len(df[df[feat_name] == feat_value])\n",
    "\n",
    "    if key:\n",
    "        return MEMO[key]\n",
    "    \n",
    "    assert True, \"Unexpected error\"\n",
    "    "
   ]
  },
  {
   "cell_type": "code",
   "execution_count": 10,
   "id": "ddf51b33",
   "metadata": {
    "colab": {
     "base_uri": "https://localhost:8080/"
    },
    "executionInfo": {
     "elapsed": 9,
     "status": "ok",
     "timestamp": 1682006533187,
     "user": {
      "displayName": "Vamshi Krishna Ginna",
      "userId": "07582065924156193695"
     },
     "user_tz": 240
    },
    "id": "ddf51b33",
    "outputId": "7fc26600-0bd6-40de-b17c-29a0394a2710"
   },
   "outputs": [
    {
     "data": {
      "text/plain": [
       "3916"
      ]
     },
     "execution_count": 10,
     "metadata": {},
     "output_type": "execute_result"
    }
   ],
   "source": [
    "# Count the number of rows with class label 'p'\n",
    "count_rows(df, y = 'p')"
   ]
  },
  {
   "cell_type": "code",
   "execution_count": 11,
   "id": "8079ee57",
   "metadata": {
    "colab": {
     "base_uri": "https://localhost:8080/"
    },
    "executionInfo": {
     "elapsed": 242,
     "status": "ok",
     "timestamp": 1682006533421,
     "user": {
      "displayName": "Vamshi Krishna Ginna",
      "userId": "07582065924156193695"
     },
     "user_tz": 240
    },
    "id": "8079ee57",
    "outputId": "d7bbf568-5a17-4083-dfb1-333237263a88"
   },
   "outputs": [
    {
     "data": {
      "text/plain": [
       "2556"
      ]
     },
     "execution_count": 11,
     "metadata": {},
     "output_type": "execute_result"
    }
   ],
   "source": [
    "# Count the number of rows for which the cap-surface feature has the value 's'\n",
    "count_rows(df, feat_name = 'cap-surface', feat_value = 's')"
   ]
  },
  {
   "cell_type": "code",
   "execution_count": 12,
   "id": "2a65748d",
   "metadata": {
    "colab": {
     "base_uri": "https://localhost:8080/"
    },
    "executionInfo": {
     "elapsed": 8,
     "status": "ok",
     "timestamp": 1682006533421,
     "user": {
      "displayName": "Vamshi Krishna Ginna",
      "userId": "07582065924156193695"
     },
     "user_tz": 240
    },
    "id": "2a65748d",
    "outputId": "a2c24dd6-7996-4d2b-bf39-429860cfea8d"
   },
   "outputs": [
    {
     "data": {
      "text/plain": [
       "1412"
      ]
     },
     "execution_count": 12,
     "metadata": {},
     "output_type": "execute_result"
    }
   ],
   "source": [
    "# Count the number of rows for which the class label is 'p' and \n",
    "# the cap-surface feature has the value 's'\n",
    "count_rows(df, y = 'p', feat_name = 'cap-surface', feat_value = 's')"
   ]
  },
  {
   "cell_type": "code",
   "execution_count": 13,
   "id": "e1fc7d1d",
   "metadata": {
    "colab": {
     "base_uri": "https://localhost:8080/"
    },
    "executionInfo": {
     "elapsed": 7,
     "status": "ok",
     "timestamp": 1682006533422,
     "user": {
      "displayName": "Vamshi Krishna Ginna",
      "userId": "07582065924156193695"
     },
     "user_tz": 240
    },
    "id": "e1fc7d1d",
    "outputId": "85911d50-afb4-4581-c4f4-e8c997b5d43d"
   },
   "outputs": [
    {
     "name": "stdout",
     "output_type": "stream",
     "text": [
      "0.36\n"
     ]
    }
   ],
   "source": [
    "# Compute p(cap-surface = 's' | class = 'p')\n",
    "print('%.2f' % (count_rows(df, y = 'p', feat_name = 'cap-surface', feat_value = 's')/count_rows(df, y = 'p')))"
   ]
  },
  {
   "cell_type": "markdown",
   "id": "2df449fc",
   "metadata": {
    "id": "2df449fc"
   },
   "source": [
    "### Split the data into training and testing sets"
   ]
  },
  {
   "cell_type": "code",
   "execution_count": 14,
   "id": "4237f992",
   "metadata": {
    "executionInfo": {
     "elapsed": 6,
     "status": "ok",
     "timestamp": 1682006533422,
     "user": {
      "displayName": "Vamshi Krishna Ginna",
      "userId": "07582065924156193695"
     },
     "user_tz": 240
    },
    "id": "4237f992"
   },
   "outputs": [],
   "source": [
    "df_train = df[:-1000]\n",
    "df_test = df[-1000:]"
   ]
  },
  {
   "cell_type": "markdown",
   "id": "81c77de8",
   "metadata": {
    "id": "81c77de8"
   },
   "source": [
    "### How to access features and the class label\n",
    "\n",
    "The code below shows how to get the feature names/values for a test instance as well as the true class label.\n",
    "\n",
    "The syntax <pre>df_test.iloc[idx]</pre> returns the row in the test dataframe at position idx.  Valid positions run from 0 to len(df_test) - 1."
   ]
  },
  {
   "cell_type": "code",
   "execution_count": 15,
   "id": "1340c6a5",
   "metadata": {
    "colab": {
     "base_uri": "https://localhost:8080/"
    },
    "executionInfo": {
     "elapsed": 6,
     "status": "ok",
     "timestamp": 1682006533422,
     "user": {
      "displayName": "Vamshi Krishna Ginna",
      "userId": "07582065924156193695"
     },
     "user_tz": 240
    },
    "id": "1340c6a5",
    "outputId": "0b587d5a-def4-4d7a-98d0-ed656708bb70"
   },
   "outputs": [
    {
     "name": "stdout",
     "output_type": "stream",
     "text": [
      "Test instance 10 has class = e\n",
      "\n",
      "Test instance 10 has cap-shape = k\n",
      "Test instance 10 has cap-surface = s\n",
      "Test instance 10 has cap-color = g\n",
      "Test instance 10 has bruises = f\n",
      "Test instance 10 has odor = n\n",
      "Test instance 10 has gill-attachment = f\n",
      "Test instance 10 has gill-spacing = w\n",
      "Test instance 10 has gill-size = b\n",
      "Test instance 10 has gill-color = p\n",
      "Test instance 10 has stalk-shape = e\n",
      "Test instance 10 has stalk-root = ?\n",
      "Test instance 10 has stalk-surface-above-ring = k\n",
      "Test instance 10 has stalk-surface-below-ring = k\n",
      "Test instance 10 has stalk-color-above-ring = w\n",
      "Test instance 10 has stalk-color-below-ring = w\n",
      "Test instance 10 has veil-type = p\n",
      "Test instance 10 has veil-color = w\n",
      "Test instance 10 has ring-number = t\n",
      "Test instance 10 has ring-type = p\n",
      "Test instance 10 has spore-print-color = w\n",
      "Test instance 10 has population = s\n",
      "Test instance 10 has habitat = g\n"
     ]
    }
   ],
   "source": [
    "idx = 10\n",
    "print('Test instance %d has class = %s\\n' % (idx, df_test.iloc[idx]['class']))\n",
    "for feat_name in FEAT_NAMES:\n",
    "    feat_value = df_test.iloc[idx][feat_name]\n",
    "    print('Test instance %d has %s = %s' % (idx, feat_name, feat_value))"
   ]
  },
  {
   "cell_type": "markdown",
   "id": "370e9441",
   "metadata": {
    "id": "370e9441"
   },
   "source": [
    "# Task 1 - Implement Naive Bayes\n",
    "\n",
    "Fill in the function below.  It takes as input the training set and an instance from the test set (e.g., df_test.iloc[10]) and returns the probabilities of the two classes.  I store them in dictionaries, as you can see at the top of my partial implementation.  But you can do whatever you want.  Note that I initialize them to 1.  Think about why I did that. Use count_rows() to get the quantities you need to classify the instance.  To make a prediction you will simply choose the probability with the largest value.\n",
    "\n",
    "To help debug I've given the probabilities (they are normalized to sum to 1) that I got from my routine for a few test instances."
   ]
  },
  {
   "cell_type": "code",
   "execution_count": 22,
   "id": "21b852fd",
   "metadata": {
    "executionInfo": {
     "elapsed": 6,
     "status": "ok",
     "timestamp": 1682006533423,
     "user": {
      "displayName": "Vamshi Krishna Ginna",
      "userId": "07582065924156193695"
     },
     "user_tz": 240
    },
    "id": "21b852fd"
   },
   "outputs": [],
   "source": [
    "def NB_probs(df_train, instance):\n",
    "    probs = {'p':1, 'e':1}\n",
    "    #number of posionous and number of edibles\n",
    "    poisonous = count_rows(df_train, y = 'p')\n",
    "    edible = count_rows(df_train, y = 'e')\n",
    "    \n",
    "    #get prior probabilities\n",
    "    prior_poison = poisonous / len(df_train)\n",
    "    prior_edible = edible / len(df_train)\n",
    "    \n",
    "    \n",
    "    for fn in FEAT_NAMES:\n",
    "        #prior_poison = prior_poison * (count_rows(df_train, y = 'p', feat_name = fn, feat_value = instance[fn]) / count_rows(df_train, y = 'p'))\n",
    "        #prior_edible = prior_edible * (count_rows(df_train, y = 'e', feat_name = fn, feat_value = instance[fn]) / count_rows(df_train, y = 'e'))\n",
    "        prior_poison = prior_poison * count_rows(df_train, y = 'p', feat_name = fn, feat_value = instance[fn])\n",
    "        prior_edible = prior_edible * count_rows(df_train, y = 'e', feat_name = fn, feat_value = instance[fn])\n",
    "    \n",
    "    prior_total = prior_poison + prior_edible\n",
    "    edible_prob = prior_edible / prior_total\n",
    "    poison_prob = prior_poison / prior_total\n",
    "    probs = {'p':poison_prob, 'e': edible_prob}\n",
    "    \n",
    "    return probs"
   ]
  },
  {
   "cell_type": "code",
   "execution_count": 23,
   "id": "fbf0653b",
   "metadata": {
    "colab": {
     "base_uri": "https://localhost:8080/"
    },
    "executionInfo": {
     "elapsed": 1066,
     "status": "ok",
     "timestamp": 1682006534483,
     "user": {
      "displayName": "Vamshi Krishna Ginna",
      "userId": "07582065924156193695"
     },
     "user_tz": 240
    },
    "id": "fbf0653b",
    "outputId": "93aac99e-8da4-4f3e-d6f5-f6853666385a"
   },
   "outputs": [
    {
     "name": "stdout",
     "output_type": "stream",
     "text": [
      "{'p': 0.6102078440663384, 'e': 0.3897921559336615}\n",
      "{'p': 1.0, 'e': 0.0}\n",
      "{'p': 0.379696273583657, 'e': 0.6203037264163429}\n"
     ]
    }
   ],
   "source": [
    "# Sample output\n",
    "print(NB_probs(df_train, df_test.iloc[10]))\n",
    "print(NB_probs(df_train, df_test.iloc[100]))\n",
    "print(NB_probs(df_train, df_test.iloc[502]))"
   ]
  },
  {
   "cell_type": "markdown",
   "id": "2dACzwphZ1aJ",
   "metadata": {
    "id": "2dACzwphZ1aJ"
   },
   "source": [
    "**12/32 Task-1** the code looks right but the output is very different"
   ]
  },
  {
   "cell_type": "markdown",
   "id": "436237c7",
   "metadata": {
    "id": "436237c7"
   },
   "source": [
    "# Task 2 - Use NB_probs() to classify \n",
    "\n",
    "Write code in the cell below to walk over the test data and classify each instance.  **Print the classification accuracy at the end.  Also print the index of each instance that is misclassified.**  There is a little skeleton code to get you started."
   ]
  },
  {
   "cell_type": "code",
   "execution_count": null,
   "id": "a13bb01e",
   "metadata": {
    "colab": {
     "base_uri": "https://localhost:8080/"
    },
    "executionInfo": {
     "elapsed": 801,
     "status": "ok",
     "timestamp": 1682006535277,
     "user": {
      "displayName": "Vamshi Krishna Ginna",
      "userId": "07582065924156193695"
     },
     "user_tz": 240
    },
    "id": "a13bb01e",
    "outputId": "dfc037eb-8619-4ece-d3ee-89c9d4ede279"
   },
   "outputs": [],
   "source": [
    "num_correct = 0\n",
    "for idx in range(len(df_test)):\n",
    "    probabilities = NB_probs(df_train, df_test.iloc[idx])\n",
    "    if probabilities['e'] > probabilities['p']:\n",
    "        predict = 'e'\n",
    "    if probabilities['p'] > probabilities['e']:\n",
    "        predict = 'p'\n",
    "    print(probabilities)\n",
    "    if predict == df_test.iloc[idx]['class']:\n",
    "        num_correct = num_correct+1\n",
    "    else:\n",
    "        print(\"Instance\", idx,\"is misclassified\"  )\n",
    "    \n",
    "print(num_correct/len(df_test))"
   ]
  },
  {
   "cell_type": "markdown",
   "id": "x_CIXrc4Z81x",
   "metadata": {
    "id": "x_CIXrc4Z81x"
   },
   "source": [
    "**32/32 Task-2**"
   ]
  },
  {
   "cell_type": "markdown",
   "id": "8af82cbc",
   "metadata": {
    "id": "8af82cbc"
   },
   "source": [
    "## Logistic Regression\n",
    "\n",
    "Recall that logistic regression learns a weight vector such that $wx >> 0$ for positive instances and $wx << 0$ for negative instances.  Below you'll look at the weights that were learned and think about which features are important."
   ]
  },
  {
   "cell_type": "code",
   "execution_count": null,
   "id": "c640ca7b",
   "metadata": {
    "executionInfo": {
     "elapsed": 1342,
     "status": "ok",
     "timestamp": 1682006536616,
     "user": {
      "displayName": "Vamshi Krishna Ginna",
      "userId": "07582065924156193695"
     },
     "user_tz": 240
    },
    "id": "c640ca7b"
   },
   "outputs": [],
   "source": [
    "from sklearn.linear_model import LogisticRegression\n",
    "from sklearn.datasets import load_wine\n",
    "import matplotlib.pyplot as plt\n",
    "import numpy as np\n",
    "from sklearn.metrics import accuracy_score"
   ]
  },
  {
   "cell_type": "markdown",
   "id": "eed522fc",
   "metadata": {
    "id": "eed522fc"
   },
   "source": [
    "### Load the data\n",
    "\n",
    "The wine dataset has 13 features that are real valued and **all positive**.  That last bit is important for what follows.  The goal is to classify a sample of wine characterized by its 13 featues into one of three types of wines."
   ]
  },
  {
   "cell_type": "code",
   "execution_count": null,
   "id": "3b4938e1",
   "metadata": {
    "executionInfo": {
     "elapsed": 2,
     "status": "ok",
     "timestamp": 1682006536616,
     "user": {
      "displayName": "Vamshi Krishna Ginna",
      "userId": "07582065924156193695"
     },
     "user_tz": 240
    },
    "id": "3b4938e1"
   },
   "outputs": [],
   "source": [
    "data = load_wine()\n",
    "X = data['data']\n",
    "y = data['target']"
   ]
  },
  {
   "cell_type": "markdown",
   "id": "86f1ddfd",
   "metadata": {
    "id": "86f1ddfd"
   },
   "source": [
    "### Train a classifier and look at the feature weights\n",
    "\n",
    "The plot below shows the weights associated with all 13 features for each of the three classes.  The are overlaid so that you can compare weights across classes."
   ]
  },
  {
   "cell_type": "code",
   "execution_count": null,
   "id": "64bdb2c8",
   "metadata": {
    "colab": {
     "base_uri": "https://localhost:8080/",
     "height": 769
    },
    "executionInfo": {
     "elapsed": 280,
     "status": "ok",
     "timestamp": 1682006536895,
     "user": {
      "displayName": "Vamshi Krishna Ginna",
      "userId": "07582065924156193695"
     },
     "user_tz": 240
    },
    "id": "64bdb2c8",
    "outputId": "bc501e17-b0a4-4172-f28c-8b5920dda0ae"
   },
   "outputs": [],
   "source": [
    "clf = LogisticRegression(C = 1)\n",
    "clf.fit(X, y)\n",
    "x = list(range(13))\n",
    "plt.plot(x, clf.coef_[0], label=data['target_names'][0])\n",
    "plt.plot(x, clf.coef_[1], label=data['target_names'][1])\n",
    "plt.plot(x, clf.coef_[2], label=data['target_names'][2])\n",
    "plt.legend()\n",
    "plt.xticks(x, data['feature_names'], rotation ='vertical')\n",
    "plt.show()"
   ]
  },
  {
   "cell_type": "markdown",
   "id": "6acfcd3f",
   "metadata": {
    "id": "6acfcd3f"
   },
   "source": [
    "# Task 3 - Answer the following questions\n",
    "\n",
    "Given the plot above, give a brief answer (a few sentences to a paragraph) to each of the following questions.\n",
    "\n",
    "* Which feature is most important for determining if a sample is class 1?\n",
    "* Which feature is most important for determining if a sample is class 2?\n",
    "* If malic_acid is a large number, does that make it more or less likely that the instance belongs to class 1?  Why?\n",
    "* Which two classes are probably the hardest to tell apart?  Why?\n",
    "* If you could only keep two features, which ones would you keep to maximize classification accuracy?  Why those two?"
   ]
  },
  {
   "cell_type": "markdown",
   "id": "e4b3fa56",
   "metadata": {
    "id": "e4b3fa56"
   },
   "source": [
    "1. The most important feature to determine if a sample is class 1 is the color_intensity. It has the lowest weight value. In other words the lower the weight is on color intensity, the more likely it is to be class 1. It is also notable to mention that the other features are closer to the weight intervals of [-0.5,0.4]\n",
    "\n",
    "2. The most important feature to determine if a sample is class 2 is also color intensity. The reason is that it has the highest weight value over all the features in class 2. Since its value of weight is greater than one, it means the intensity of color will have a significant effect on the weight vector.\n",
    "\n",
    "3. If you make malic_acid a larger negative, then it is more likely to belong to class 1. The reason is is that along with color_intensity, malic_acid is also a large weight value. Those are the only two large weights in comparison to the other features when it comes to class 1.\n",
    "\n",
    "4. Class 0 and 1 are the hardest to tell apart. A majority of their features have weights of similar value.\n",
    "\n",
    "5. To maximize classification accuracy, I would keep color_intensity and alcalinity_of_ash. Color_intensity has a great difference in weight values for class 1 and class 2. So color_intensity is a good determining factor/feature when deciding between class 1 and class 2. Alcalinity_of_ash is good for determining if an instance belongs to class 0, because if the weight value is above 0 it could belong to class 1 or class 2. However, if the weight value is below 0, then the instance most likely belongs to class 0."
   ]
  },
  {
   "cell_type": "code",
   "execution_count": null,
   "id": "8522c6cb",
   "metadata": {
    "executionInfo": {
     "elapsed": 7,
     "status": "ok",
     "timestamp": 1682006536895,
     "user": {
      "displayName": "Vamshi Krishna Ginna",
      "userId": "07582065924156193695"
     },
     "user_tz": 240
    },
    "id": "8522c6cb"
   },
   "outputs": [],
   "source": []
  },
  {
   "cell_type": "markdown",
   "id": "fDTW1PRoaEJx",
   "metadata": {
    "id": "fDTW1PRoaEJx"
   },
   "source": [
    "\n",
    "\n",
    "1.   4/7.2\n",
    "2.   7.2/7.2\n",
    "3.   7.2/7.2\n",
    "4.   7.2/7.2\n",
    "5.   7.2/7.2\n",
    "\n",
    "**33/36 Task-3**"
   ]
  },
  {
   "cell_type": "code",
   "execution_count": null,
   "id": "mjRX4o6GadGP",
   "metadata": {
    "id": "mjRX4o6GadGP"
   },
   "outputs": [],
   "source": []
  }
 ],
 "metadata": {
  "colab": {
   "provenance": []
  },
  "kernelspec": {
   "display_name": "Python 3 (ipykernel)",
   "language": "python",
   "name": "python3"
  },
  "language_info": {
   "codemirror_mode": {
    "name": "ipython",
    "version": 3
   },
   "file_extension": ".py",
   "mimetype": "text/x-python",
   "name": "python",
   "nbconvert_exporter": "python",
   "pygments_lexer": "ipython3",
   "version": "3.9.13"
  }
 },
 "nbformat": 4,
 "nbformat_minor": 5
}
